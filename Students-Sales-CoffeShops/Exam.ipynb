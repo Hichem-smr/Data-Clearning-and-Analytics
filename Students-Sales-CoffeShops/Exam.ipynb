{
 "cells": [
  {
   "cell_type": "code",
   "execution_count": 456,
   "id": "567642f0",
   "metadata": {},
   "outputs": [
    {
     "data": {
      "text/html": [
       "<div>\n",
       "<style scoped>\n",
       "    .dataframe tbody tr th:only-of-type {\n",
       "        vertical-align: middle;\n",
       "    }\n",
       "\n",
       "    .dataframe tbody tr th {\n",
       "        vertical-align: top;\n",
       "    }\n",
       "\n",
       "    .dataframe thead th {\n",
       "        text-align: right;\n",
       "    }\n",
       "</style>\n",
       "<table border=\"1\" class=\"dataframe\">\n",
       "  <thead>\n",
       "    <tr style=\"text-align: right;\">\n",
       "      <th></th>\n",
       "      <th>Name</th>\n",
       "      <th>Gender</th>\n",
       "      <th>Age</th>\n",
       "      <th>Grade</th>\n",
       "      <th>Absence</th>\n",
       "      <th>Bloodtype</th>\n",
       "      <th>Height</th>\n",
       "      <th>Weight</th>\n",
       "    </tr>\n",
       "  </thead>\n",
       "  <tbody>\n",
       "    <tr>\n",
       "      <th>0</th>\n",
       "      <td>Jared Diamond</td>\n",
       "      <td>M</td>\n",
       "      <td>23</td>\n",
       "      <td>3</td>\n",
       "      <td>Y</td>\n",
       "      <td>O</td>\n",
       "      <td>165.3</td>\n",
       "      <td>68.2</td>\n",
       "    </tr>\n",
       "    <tr>\n",
       "      <th>1</th>\n",
       "      <td>Sarah O'Donnel</td>\n",
       "      <td>F</td>\n",
       "      <td>22</td>\n",
       "      <td>2</td>\n",
       "      <td>N</td>\n",
       "      <td>AB</td>\n",
       "      <td>170.1</td>\n",
       "      <td>53.0</td>\n",
       "    </tr>\n",
       "    <tr>\n",
       "      <th>2</th>\n",
       "      <td>Brian Martin</td>\n",
       "      <td>M</td>\n",
       "      <td>24</td>\n",
       "      <td>4</td>\n",
       "      <td>N</td>\n",
       "      <td>B</td>\n",
       "      <td>175.0</td>\n",
       "      <td>80.1</td>\n",
       "    </tr>\n",
       "    <tr>\n",
       "      <th>3</th>\n",
       "      <td>David Hassel</td>\n",
       "      <td>M</td>\n",
       "      <td>23</td>\n",
       "      <td>3</td>\n",
       "      <td>N</td>\n",
       "      <td>AB</td>\n",
       "      <td>182.1</td>\n",
       "      <td>85.7</td>\n",
       "    </tr>\n",
       "    <tr>\n",
       "      <th>4</th>\n",
       "      <td>Clara Rodriquez</td>\n",
       "      <td>F</td>\n",
       "      <td>20</td>\n",
       "      <td>1</td>\n",
       "      <td>Y</td>\n",
       "      <td>A</td>\n",
       "      <td>168.0</td>\n",
       "      <td>49.5</td>\n",
       "    </tr>\n",
       "  </tbody>\n",
       "</table>\n",
       "</div>"
      ],
      "text/plain": [
       "              Name Gender  Age  Grade Absence Bloodtype  Height  Weight\n",
       "0    Jared Diamond      M   23      3       Y         O   165.3    68.2\n",
       "1   Sarah O'Donnel      F   22      2       N        AB   170.1    53.0\n",
       "2     Brian Martin      M   24      4       N         B   175.0    80.1\n",
       "3     David Hassel      M   23      3       N        AB   182.1    85.7\n",
       "4  Clara Rodriquez      F   20      1       Y         A   168.0    49.5"
      ]
     },
     "execution_count": 456,
     "metadata": {},
     "output_type": "execute_result"
    }
   ],
   "source": [
    "import pandas as pd\n",
    "import os\n",
    "df = pd.read_csv('data_studentlist.csv', header='infer')\n",
    "df.head(5)"
   ]
  },
  {
   "cell_type": "code",
   "execution_count": 457,
   "id": "79ddcdd9",
   "metadata": {},
   "outputs": [
    {
     "data": {
      "text/plain": [
       "172.41000000000003"
      ]
     },
     "execution_count": 457,
     "metadata": {},
     "output_type": "execute_result"
    }
   ],
   "source": [
    "##average height males\n",
    "df[df[\"Gender\"] == \"M\"][\"Height\"].mean()"
   ]
  },
  {
   "cell_type": "code",
   "execution_count": 458,
   "id": "0d6f163e",
   "metadata": {},
   "outputs": [
    {
     "data": {
      "text/plain": [
       "166.64285714285714"
      ]
     },
     "execution_count": 458,
     "metadata": {},
     "output_type": "execute_result"
    }
   ],
   "source": [
    "df[df[\"Gender\"] == \"F\"][\"Height\"].mean()"
   ]
  },
  {
   "cell_type": "code",
   "execution_count": 459,
   "id": "e9f8cfc4",
   "metadata": {},
   "outputs": [
    {
     "data": {
      "text/plain": [
       "68.50000000000001"
      ]
     },
     "execution_count": 459,
     "metadata": {},
     "output_type": "execute_result"
    }
   ],
   "source": [
    "##Average weight males\n",
    "df[df[\"Gender\"] == \"M\"][\"Weight\"].mean()"
   ]
  },
  {
   "cell_type": "code",
   "execution_count": 460,
   "id": "23e72a3d",
   "metadata": {},
   "outputs": [
    {
     "data": {
      "text/plain": [
       "50.44285714285714"
      ]
     },
     "execution_count": 460,
     "metadata": {},
     "output_type": "execute_result"
    }
   ],
   "source": [
    "df[df[\"Gender\"] == \"F\"][\"Weight\"].mean()"
   ]
  },
  {
   "cell_type": "code",
   "execution_count": 461,
   "id": "e34d73d7",
   "metadata": {},
   "outputs": [
    {
     "name": "stdout",
     "output_type": "stream",
     "text": [
      "182.1\n",
      "           Name Gender  Age  Grade Absence Bloodtype  Height  Weight\n",
      "3  David Hassel      M   23      3       N        AB   182.1    85.7\n"
     ]
    }
   ],
   "source": [
    "#tallest student male\n",
    "max = df[df[\"Gender\"] == \"M\"][\"Height\"].max()\n",
    "print(max)\n",
    "print(df[df[\"Height\"] == max])"
   ]
  },
  {
   "cell_type": "code",
   "execution_count": 462,
   "id": "1f7984df",
   "metadata": {},
   "outputs": [
    {
     "name": "stdout",
     "output_type": "stream",
     "text": [
      "155.2\n",
      "          Name Gender  Age  Grade Absence Bloodtype  Height  Weight\n",
      "6  Susan Clark      F   22      1       N         O   155.2    45.3\n"
     ]
    }
   ],
   "source": [
    "min = df[df[\"Gender\"] == \"F\"][\"Height\"].min()\n",
    "print(min)\n",
    "print(df[df[\"Height\"] == min])"
   ]
  },
  {
   "cell_type": "code",
   "execution_count": 463,
   "id": "3fe30ff7",
   "metadata": {},
   "outputs": [
    {
     "name": "stdout",
     "output_type": "stream",
     "text": [
      "61.3\n"
     ]
    }
   ],
   "source": [
    "mask1 = df[\"Gender\"] == \"M\"\n",
    "mask2 = df[\"Height\"] > 175\n",
    "mask3 = mask1 & mask2\n",
    "print(df[mask3][\"Weight\"].min())"
   ]
  },
  {
   "cell_type": "code",
   "execution_count": 464,
   "id": "2c46b402",
   "metadata": {},
   "outputs": [
    {
     "name": "stdout",
     "output_type": "stream",
     "text": [
      "45.3\n"
     ]
    }
   ],
   "source": [
    "mask1 = df[\"Gender\"] == \"F\"\n",
    "mask2 = df[\"Height\"] < 160\n",
    "mask3 = mask1 & mask2\n",
    "print(df[mask3][\"Weight\"].max())"
   ]
  },
  {
   "cell_type": "code",
   "execution_count": 465,
   "id": "fec83b00",
   "metadata": {},
   "outputs": [
    {
     "data": {
      "text/plain": [
       "2.076923076923077"
      ]
     },
     "execution_count": 465,
     "metadata": {},
     "output_type": "execute_result"
    }
   ],
   "source": [
    "df[df[\"Absence\"] == \"N\"][\"Grade\"].mean()"
   ]
  },
  {
   "cell_type": "code",
   "execution_count": 466,
   "id": "e520bdf9",
   "metadata": {},
   "outputs": [
    {
     "data": {
      "text/plain": [
       "3.0"
      ]
     },
     "execution_count": 466,
     "metadata": {},
     "output_type": "execute_result"
    }
   ],
   "source": [
    "df[df[\"Absence\"] == \"Y\"][\"Grade\"].mean()"
   ]
  },
  {
   "cell_type": "code",
   "execution_count": 467,
   "id": "fce9ce76",
   "metadata": {},
   "outputs": [
    {
     "data": {
      "text/plain": [
       "172.64285714285714"
      ]
     },
     "execution_count": 467,
     "metadata": {},
     "output_type": "execute_result"
    }
   ],
   "source": [
    "mask1 = df[\"Bloodtype\"] == \"A\"\n",
    "mask2 = df[\"Bloodtype\"] == \"AB\"\n",
    "mask3 = mask1 | mask2\n",
    "df[mask3][\"Height\"].mean()"
   ]
  },
  {
   "cell_type": "code",
   "execution_count": 468,
   "id": "7fbe4567",
   "metadata": {},
   "outputs": [
    {
     "data": {
      "text/plain": [
       "173.375"
      ]
     },
     "execution_count": 468,
     "metadata": {},
     "output_type": "execute_result"
    }
   ],
   "source": [
    "mask0 = df[\"Gender\"] == \"M\"\n",
    "mask1 = df[\"Bloodtype\"] == \"A\"\n",
    "mask2 = df[\"Bloodtype\"] == \"AB\"\n",
    "mask3 = (mask1 | mask2) & mask0\n",
    "df[mask3][\"Height\"].mean()"
   ]
  },
  {
   "cell_type": "code",
   "execution_count": 469,
   "id": "fa248731",
   "metadata": {},
   "outputs": [
    {
     "data": {
      "text/plain": [
       "23.666666666666668"
      ]
     },
     "execution_count": 469,
     "metadata": {},
     "output_type": "execute_result"
    }
   ],
   "source": [
    "df\n",
    "mask0 = df[\"Absence\"] == \"Y\"\n",
    "mask1 = df[\"Grade\"] >= 3\n",
    "mask2 = mask0 & mask1\n",
    "df[mask2][\"Age\"].mean()"
   ]
  },
  {
   "cell_type": "code",
   "execution_count": 471,
   "id": "dd40b86d",
   "metadata": {},
   "outputs": [
    {
     "data": {
      "text/html": [
       "<div>\n",
       "<style scoped>\n",
       "    .dataframe tbody tr th:only-of-type {\n",
       "        vertical-align: middle;\n",
       "    }\n",
       "\n",
       "    .dataframe tbody tr th {\n",
       "        vertical-align: top;\n",
       "    }\n",
       "\n",
       "    .dataframe thead th {\n",
       "        text-align: right;\n",
       "    }\n",
       "</style>\n",
       "<table border=\"1\" class=\"dataframe\">\n",
       "  <thead>\n",
       "    <tr style=\"text-align: right;\">\n",
       "      <th></th>\n",
       "      <th>Province Code</th>\n",
       "      <th>City Code</th>\n",
       "      <th>Population</th>\n",
       "      <th>Households</th>\n",
       "      <th>Person's Household</th>\n",
       "      <th>Gender Ratio</th>\n",
       "    </tr>\n",
       "  </thead>\n",
       "  <tbody>\n",
       "    <tr>\n",
       "      <th>0</th>\n",
       "      <td>109</td>\n",
       "      <td>1001</td>\n",
       "      <td>10078850</td>\n",
       "      <td>4197478</td>\n",
       "      <td>2.40</td>\n",
       "      <td>0.97</td>\n",
       "    </tr>\n",
       "    <tr>\n",
       "      <th>1</th>\n",
       "      <td>109</td>\n",
       "      <td>1188</td>\n",
       "      <td>155695</td>\n",
       "      <td>72882</td>\n",
       "      <td>2.14</td>\n",
       "      <td>0.98</td>\n",
       "    </tr>\n",
       "    <tr>\n",
       "      <th>2</th>\n",
       "      <td>109</td>\n",
       "      <td>1189</td>\n",
       "      <td>126817</td>\n",
       "      <td>59614</td>\n",
       "      <td>2.13</td>\n",
       "      <td>1.00</td>\n",
       "    </tr>\n",
       "    <tr>\n",
       "      <th>3</th>\n",
       "      <td>109</td>\n",
       "      <td>1158</td>\n",
       "      <td>235186</td>\n",
       "      <td>108138</td>\n",
       "      <td>2.17</td>\n",
       "      <td>0.94</td>\n",
       "    </tr>\n",
       "    <tr>\n",
       "      <th>4</th>\n",
       "      <td>109</td>\n",
       "      <td>1105</td>\n",
       "      <td>298145</td>\n",
       "      <td>126915</td>\n",
       "      <td>2.35</td>\n",
       "      <td>0.99</td>\n",
       "    </tr>\n",
       "    <tr>\n",
       "      <th>5</th>\n",
       "      <td>109</td>\n",
       "      <td>1032</td>\n",
       "      <td>362197</td>\n",
       "      <td>158769</td>\n",
       "      <td>2.28</td>\n",
       "      <td>0.97</td>\n",
       "    </tr>\n",
       "    <tr>\n",
       "      <th>6</th>\n",
       "      <td>109</td>\n",
       "      <td>1065</td>\n",
       "      <td>362604</td>\n",
       "      <td>160110</td>\n",
       "      <td>2.26</td>\n",
       "      <td>1.01</td>\n",
       "    </tr>\n",
       "    <tr>\n",
       "      <th>7</th>\n",
       "      <td>109</td>\n",
       "      <td>1190</td>\n",
       "      <td>417976</td>\n",
       "      <td>177077</td>\n",
       "      <td>2.36</td>\n",
       "      <td>1.00</td>\n",
       "    </tr>\n",
       "    <tr>\n",
       "      <th>8</th>\n",
       "      <td>109</td>\n",
       "      <td>1106</td>\n",
       "      <td>464176</td>\n",
       "      <td>192670</td>\n",
       "      <td>2.41</td>\n",
       "      <td>0.96</td>\n",
       "    </tr>\n",
       "    <tr>\n",
       "      <th>9</th>\n",
       "      <td>109</td>\n",
       "      <td>1006</td>\n",
       "      <td>333523</td>\n",
       "      <td>141325</td>\n",
       "      <td>2.36</td>\n",
       "      <td>0.97</td>\n",
       "    </tr>\n",
       "  </tbody>\n",
       "</table>\n",
       "</div>"
      ],
      "text/plain": [
       "   Province Code  City Code  Population  Households  Person's Household  \\\n",
       "0            109       1001    10078850     4197478                2.40   \n",
       "1            109       1188      155695       72882                2.14   \n",
       "2            109       1189      126817       59614                2.13   \n",
       "3            109       1158      235186      108138                2.17   \n",
       "4            109       1105      298145      126915                2.35   \n",
       "5            109       1032      362197      158769                2.28   \n",
       "6            109       1065      362604      160110                2.26   \n",
       "7            109       1190      417976      177077                2.36   \n",
       "8            109       1106      464176      192670                2.41   \n",
       "9            109       1006      333523      141325                2.36   \n",
       "\n",
       "   Gender Ratio  \n",
       "0          0.97  \n",
       "1          0.98  \n",
       "2          1.00  \n",
       "3          0.94  \n",
       "4          0.99  \n",
       "5          0.97  \n",
       "6          1.01  \n",
       "7          1.00  \n",
       "8          0.96  \n",
       "9          0.97  "
      ]
     },
     "execution_count": 471,
     "metadata": {},
     "output_type": "execute_result"
    }
   ],
   "source": [
    "######################PART 2#########################\n",
    "import pandas as pd\n",
    "import numpy as np\n",
    "import os\n",
    "df = pd.read_csv('data_census.csv', header='infer')\n",
    "df.Population = df.Population.astype(str).str.replace(',','').astype('int64')\n",
    "df.Households = df.Households.astype(str).str.replace(',','').astype('int64')\n",
    "df.shape\n",
    "df.head(10) "
   ]
  },
  {
   "cell_type": "code",
   "execution_count": 473,
   "id": "20ddf5f1",
   "metadata": {},
   "outputs": [
    {
     "data": {
      "text/plain": [
       "1230500.0"
      ]
     },
     "execution_count": 473,
     "metadata": {},
     "output_type": "execute_result"
    }
   ],
   "source": [
    "mask0 = df[\"Province Code\"] == 115\n",
    "mask1 = df[\"Province Code\"] == 116\n",
    "a = df[mask0][\"Population\"]\n",
    "a.astype(float).sum()"
   ]
  },
  {
   "cell_type": "code",
   "execution_count": 474,
   "id": "84612814",
   "metadata": {},
   "outputs": [
    {
     "data": {
      "text/html": [
       "<div>\n",
       "<style scoped>\n",
       "    .dataframe tbody tr th:only-of-type {\n",
       "        vertical-align: middle;\n",
       "    }\n",
       "\n",
       "    .dataframe tbody tr th {\n",
       "        vertical-align: top;\n",
       "    }\n",
       "\n",
       "    .dataframe thead th {\n",
       "        text-align: right;\n",
       "    }\n",
       "</style>\n",
       "<table border=\"1\" class=\"dataframe\">\n",
       "  <thead>\n",
       "    <tr style=\"text-align: right;\">\n",
       "      <th></th>\n",
       "      <th>mean</th>\n",
       "    </tr>\n",
       "    <tr>\n",
       "      <th>City Code</th>\n",
       "      <th></th>\n",
       "    </tr>\n",
       "  </thead>\n",
       "  <tbody>\n",
       "    <tr>\n",
       "      <th>1001</th>\n",
       "      <td>2.613991e+06</td>\n",
       "    </tr>\n",
       "    <tr>\n",
       "      <th>1002</th>\n",
       "      <td>6.169300e+04</td>\n",
       "    </tr>\n",
       "    <tr>\n",
       "      <th>1007</th>\n",
       "      <td>8.677100e+04</td>\n",
       "    </tr>\n",
       "    <tr>\n",
       "      <th>1009</th>\n",
       "      <td>6.738300e+04</td>\n",
       "    </tr>\n",
       "    <tr>\n",
       "      <th>1010</th>\n",
       "      <td>2.528230e+05</td>\n",
       "    </tr>\n",
       "    <tr>\n",
       "      <th>...</th>\n",
       "      <td>...</td>\n",
       "    </tr>\n",
       "    <tr>\n",
       "      <th>1230</th>\n",
       "      <td>6.925600e+04</td>\n",
       "    </tr>\n",
       "    <tr>\n",
       "      <th>1237</th>\n",
       "      <td>7.040000e+04</td>\n",
       "    </tr>\n",
       "    <tr>\n",
       "      <th>1238</th>\n",
       "      <td>5.682650e+05</td>\n",
       "    </tr>\n",
       "    <tr>\n",
       "      <th>1240</th>\n",
       "      <td>2.679000e+04</td>\n",
       "    </tr>\n",
       "    <tr>\n",
       "      <th>1241</th>\n",
       "      <td>4.557300e+04</td>\n",
       "    </tr>\n",
       "  </tbody>\n",
       "</table>\n",
       "<p>115 rows × 1 columns</p>\n",
       "</div>"
      ],
      "text/plain": [
       "                   mean\n",
       "City Code              \n",
       "1001       2.613991e+06\n",
       "1002       6.169300e+04\n",
       "1007       8.677100e+04\n",
       "1009       6.738300e+04\n",
       "1010       2.528230e+05\n",
       "...                 ...\n",
       "1230       6.925600e+04\n",
       "1237       7.040000e+04\n",
       "1238       5.682650e+05\n",
       "1240       2.679000e+04\n",
       "1241       4.557300e+04\n",
       "\n",
       "[115 rows x 1 columns]"
      ]
     },
     "execution_count": 474,
     "metadata": {},
     "output_type": "execute_result"
    }
   ],
   "source": [
    "mask0 = df[\"Gender Ratio\"] > 1\n",
    "\n",
    "p = df[mask0]\n",
    "p.groupby('City Code')['Population'].agg(['mean'])"
   ]
  },
  {
   "cell_type": "code",
   "execution_count": 475,
   "id": "a32341b0",
   "metadata": {},
   "outputs": [
    {
     "data": {
      "text/html": [
       "<div>\n",
       "<style scoped>\n",
       "    .dataframe tbody tr th:only-of-type {\n",
       "        vertical-align: middle;\n",
       "    }\n",
       "\n",
       "    .dataframe tbody tr th {\n",
       "        vertical-align: top;\n",
       "    }\n",
       "\n",
       "    .dataframe thead th {\n",
       "        text-align: right;\n",
       "    }\n",
       "</style>\n",
       "<table border=\"1\" class=\"dataframe\">\n",
       "  <thead>\n",
       "    <tr style=\"text-align: right;\">\n",
       "      <th></th>\n",
       "      <th>Province Code</th>\n",
       "      <th>City Code</th>\n",
       "      <th>Population</th>\n",
       "      <th>Households</th>\n",
       "      <th>Person's Household</th>\n",
       "      <th>Gender Ratio</th>\n",
       "    </tr>\n",
       "  </thead>\n",
       "  <tbody>\n",
       "    <tr>\n",
       "      <th>6</th>\n",
       "      <td>109</td>\n",
       "      <td>1065</td>\n",
       "      <td>362604</td>\n",
       "      <td>160110</td>\n",
       "      <td>2.26</td>\n",
       "      <td>1.01</td>\n",
       "    </tr>\n",
       "    <tr>\n",
       "      <th>18</th>\n",
       "      <td>109</td>\n",
       "      <td>1043</td>\n",
       "      <td>238367</td>\n",
       "      <td>104331</td>\n",
       "      <td>2.28</td>\n",
       "      <td>1.04</td>\n",
       "    </tr>\n",
       "    <tr>\n",
       "      <th>21</th>\n",
       "      <td>109</td>\n",
       "      <td>1027</td>\n",
       "      <td>512921</td>\n",
       "      <td>249481</td>\n",
       "      <td>2.06</td>\n",
       "      <td>1.02</td>\n",
       "    </tr>\n",
       "    <tr>\n",
       "      <th>38</th>\n",
       "      <td>108</td>\n",
       "      <td>1007</td>\n",
       "      <td>86771</td>\n",
       "      <td>35770</td>\n",
       "      <td>2.43</td>\n",
       "      <td>1.08</td>\n",
       "    </tr>\n",
       "    <tr>\n",
       "      <th>41</th>\n",
       "      <td>108</td>\n",
       "      <td>1089</td>\n",
       "      <td>240772</td>\n",
       "      <td>96928</td>\n",
       "      <td>2.48</td>\n",
       "      <td>1.04</td>\n",
       "    </tr>\n",
       "    <tr>\n",
       "      <th>...</th>\n",
       "      <td>...</td>\n",
       "      <td>...</td>\n",
       "      <td>...</td>\n",
       "      <td>...</td>\n",
       "      <td>...</td>\n",
       "      <td>...</td>\n",
       "    </tr>\n",
       "    <tr>\n",
       "      <th>266</th>\n",
       "      <td>103</td>\n",
       "      <td>1010</td>\n",
       "      <td>252823</td>\n",
       "      <td>100073</td>\n",
       "      <td>2.53</td>\n",
       "      <td>1.12</td>\n",
       "    </tr>\n",
       "    <tr>\n",
       "      <th>267</th>\n",
       "      <td>103</td>\n",
       "      <td>1131</td>\n",
       "      <td>296521</td>\n",
       "      <td>115235</td>\n",
       "      <td>2.57</td>\n",
       "      <td>1.01</td>\n",
       "    </tr>\n",
       "    <tr>\n",
       "      <th>269</th>\n",
       "      <td>103</td>\n",
       "      <td>1230</td>\n",
       "      <td>69256</td>\n",
       "      <td>30798</td>\n",
       "      <td>2.25</td>\n",
       "      <td>1.02</td>\n",
       "    </tr>\n",
       "    <tr>\n",
       "      <th>278</th>\n",
       "      <td>115</td>\n",
       "      <td>1001</td>\n",
       "      <td>615250</td>\n",
       "      <td>251478</td>\n",
       "      <td>2.45</td>\n",
       "      <td>1.01</td>\n",
       "    </tr>\n",
       "    <tr>\n",
       "      <th>280</th>\n",
       "      <td>115</td>\n",
       "      <td>1096</td>\n",
       "      <td>160577</td>\n",
       "      <td>68769</td>\n",
       "      <td>2.34</td>\n",
       "      <td>1.02</td>\n",
       "    </tr>\n",
       "  </tbody>\n",
       "</table>\n",
       "<p>130 rows × 6 columns</p>\n",
       "</div>"
      ],
      "text/plain": [
       "     Province Code  City Code  Population  Households  Person's Household  \\\n",
       "6              109       1065      362604      160110                2.26   \n",
       "18             109       1043      238367      104331                2.28   \n",
       "21             109       1027      512921      249481                2.06   \n",
       "38             108       1007       86771       35770                2.43   \n",
       "41             108       1089      240772       96928                2.48   \n",
       "..             ...        ...         ...         ...                 ...   \n",
       "266            103       1010      252823      100073                2.53   \n",
       "267            103       1131      296521      115235                2.57   \n",
       "269            103       1230       69256       30798                2.25   \n",
       "278            115       1001      615250      251478                2.45   \n",
       "280            115       1096      160577       68769                2.34   \n",
       "\n",
       "     Gender Ratio  \n",
       "6            1.01  \n",
       "18           1.04  \n",
       "21           1.02  \n",
       "38           1.08  \n",
       "41           1.04  \n",
       "..            ...  \n",
       "266          1.12  \n",
       "267          1.01  \n",
       "269          1.02  \n",
       "278          1.01  \n",
       "280          1.02  \n",
       "\n",
       "[130 rows x 6 columns]"
      ]
     },
     "execution_count": 475,
     "metadata": {},
     "output_type": "execute_result"
    }
   ],
   "source": [
    "df\n",
    "df[\"Gender Ratio\"]\n",
    "mask0 = df[\"Gender Ratio\"] > 1\n",
    "mask1 = df[\"Person's Household\"] \n",
    "df[mask0 & mask1]"
   ]
  },
  {
   "cell_type": "code",
   "execution_count": 476,
   "id": "ab4578bc",
   "metadata": {},
   "outputs": [
    {
     "data": {
      "text/html": [
       "<div>\n",
       "<style scoped>\n",
       "    .dataframe tbody tr th:only-of-type {\n",
       "        vertical-align: middle;\n",
       "    }\n",
       "\n",
       "    .dataframe tbody tr th {\n",
       "        vertical-align: top;\n",
       "    }\n",
       "\n",
       "    .dataframe thead th {\n",
       "        text-align: right;\n",
       "    }\n",
       "</style>\n",
       "<table border=\"1\" class=\"dataframe\">\n",
       "  <thead>\n",
       "    <tr style=\"text-align: right;\">\n",
       "      <th></th>\n",
       "      <th>Province Code</th>\n",
       "      <th>City Code</th>\n",
       "      <th>Population</th>\n",
       "      <th>Households</th>\n",
       "      <th>Person's Household</th>\n",
       "      <th>Gender Ratio</th>\n",
       "    </tr>\n",
       "  </thead>\n",
       "  <tbody>\n",
       "    <tr>\n",
       "      <th>83</th>\n",
       "      <td>102</td>\n",
       "      <td>1001</td>\n",
       "      <td>12432063</td>\n",
       "      <td>4829521</td>\n",
       "      <td>2.57</td>\n",
       "      <td>1.01</td>\n",
       "    </tr>\n",
       "    <tr>\n",
       "      <th>0</th>\n",
       "      <td>109</td>\n",
       "      <td>1001</td>\n",
       "      <td>10078850</td>\n",
       "      <td>4197478</td>\n",
       "      <td>2.40</td>\n",
       "      <td>0.97</td>\n",
       "    </tr>\n",
       "    <tr>\n",
       "      <th>26</th>\n",
       "      <td>108</td>\n",
       "      <td>1001</td>\n",
       "      <td>3517491</td>\n",
       "      <td>1430441</td>\n",
       "      <td>2.46</td>\n",
       "      <td>0.98</td>\n",
       "    </tr>\n",
       "    <tr>\n",
       "      <th>254</th>\n",
       "      <td>103</td>\n",
       "      <td>1001</td>\n",
       "      <td>3356540</td>\n",
       "      <td>1356430</td>\n",
       "      <td>2.47</td>\n",
       "      <td>1.02</td>\n",
       "    </tr>\n",
       "    <tr>\n",
       "      <th>228</th>\n",
       "      <td>104</td>\n",
       "      <td>1001</td>\n",
       "      <td>2697791</td>\n",
       "      <td>1160150</td>\n",
       "      <td>2.33</td>\n",
       "      <td>1.01</td>\n",
       "    </tr>\n",
       "    <tr>\n",
       "      <th>52</th>\n",
       "      <td>112</td>\n",
       "      <td>1001</td>\n",
       "      <td>2914271</td>\n",
       "      <td>1145232</td>\n",
       "      <td>2.54</td>\n",
       "      <td>1.01</td>\n",
       "    </tr>\n",
       "    <tr>\n",
       "      <th>43</th>\n",
       "      <td>106</td>\n",
       "      <td>1001</td>\n",
       "      <td>2491137</td>\n",
       "      <td>977714</td>\n",
       "      <td>2.55</td>\n",
       "      <td>0.99</td>\n",
       "    </tr>\n",
       "    <tr>\n",
       "      <th>170</th>\n",
       "      <td>116</td>\n",
       "      <td>1001</td>\n",
       "      <td>2068444</td>\n",
       "      <td>878544</td>\n",
       "      <td>2.35</td>\n",
       "      <td>1.03</td>\n",
       "    </tr>\n",
       "    <tr>\n",
       "      <th>205</th>\n",
       "      <td>113</td>\n",
       "      <td>1001</td>\n",
       "      <td>1902638</td>\n",
       "      <td>827264</td>\n",
       "      <td>2.30</td>\n",
       "      <td>1.00</td>\n",
       "    </tr>\n",
       "    <tr>\n",
       "      <th>188</th>\n",
       "      <td>114</td>\n",
       "      <td>1001</td>\n",
       "      <td>1869668</td>\n",
       "      <td>778350</td>\n",
       "      <td>2.40</td>\n",
       "      <td>0.99</td>\n",
       "    </tr>\n",
       "  </tbody>\n",
       "</table>\n",
       "</div>"
      ],
      "text/plain": [
       "     Province Code  City Code  Population  Households  Person's Household  \\\n",
       "83             102       1001    12432063     4829521                2.57   \n",
       "0              109       1001    10078850     4197478                2.40   \n",
       "26             108       1001     3517491     1430441                2.46   \n",
       "254            103       1001     3356540     1356430                2.47   \n",
       "228            104       1001     2697791     1160150                2.33   \n",
       "52             112       1001     2914271     1145232                2.54   \n",
       "43             106       1001     2491137      977714                2.55   \n",
       "170            116       1001     2068444      878544                2.35   \n",
       "205            113       1001     1902638      827264                2.30   \n",
       "188            114       1001     1869668      778350                2.40   \n",
       "\n",
       "     Gender Ratio  \n",
       "83           1.01  \n",
       "0            0.97  \n",
       "26           0.98  \n",
       "254          1.02  \n",
       "228          1.01  \n",
       "52           1.01  \n",
       "43           0.99  \n",
       "170          1.03  \n",
       "205          1.00  \n",
       "188          0.99  "
      ]
     },
     "execution_count": 476,
     "metadata": {},
     "output_type": "execute_result"
    }
   ],
   "source": [
    "df\n",
    "df.sort_values(\"Households\", ascending=False).head(10)"
   ]
  },
  {
   "cell_type": "code",
   "execution_count": 477,
   "id": "2fae32f6",
   "metadata": {},
   "outputs": [
    {
     "data": {
      "text/html": [
       "<div>\n",
       "<style scoped>\n",
       "    .dataframe tbody tr th:only-of-type {\n",
       "        vertical-align: middle;\n",
       "    }\n",
       "\n",
       "    .dataframe tbody tr th {\n",
       "        vertical-align: top;\n",
       "    }\n",
       "\n",
       "    .dataframe thead th {\n",
       "        text-align: right;\n",
       "    }\n",
       "</style>\n",
       "<table border=\"1\" class=\"dataframe\">\n",
       "  <thead>\n",
       "    <tr style=\"text-align: right;\">\n",
       "      <th></th>\n",
       "      <th>Date</th>\n",
       "      <th>Region</th>\n",
       "      <th>Item</th>\n",
       "      <th>Unit Price</th>\n",
       "      <th>Units</th>\n",
       "    </tr>\n",
       "  </thead>\n",
       "  <tbody>\n",
       "    <tr>\n",
       "      <th>0</th>\n",
       "      <td>04-Jul-14</td>\n",
       "      <td>East</td>\n",
       "      <td>Pen Set</td>\n",
       "      <td>4.99</td>\n",
       "      <td>62</td>\n",
       "    </tr>\n",
       "    <tr>\n",
       "      <th>1</th>\n",
       "      <td>12-Jul-14</td>\n",
       "      <td>East</td>\n",
       "      <td>Binder</td>\n",
       "      <td>1.99</td>\n",
       "      <td>29</td>\n",
       "    </tr>\n",
       "    <tr>\n",
       "      <th>2</th>\n",
       "      <td>21-Jul-14</td>\n",
       "      <td>Central</td>\n",
       "      <td>Pen Set</td>\n",
       "      <td>12.49</td>\n",
       "      <td>55</td>\n",
       "    </tr>\n",
       "    <tr>\n",
       "      <th>3</th>\n",
       "      <td>29-Jul-14</td>\n",
       "      <td>East</td>\n",
       "      <td>Binder</td>\n",
       "      <td>19.99</td>\n",
       "      <td>81</td>\n",
       "    </tr>\n",
       "    <tr>\n",
       "      <th>4</th>\n",
       "      <td>07-Aug-14</td>\n",
       "      <td>Central</td>\n",
       "      <td>Pen Set</td>\n",
       "      <td>23.95</td>\n",
       "      <td>42</td>\n",
       "    </tr>\n",
       "  </tbody>\n",
       "</table>\n",
       "</div>"
      ],
      "text/plain": [
       "        Date   Region     Item  Unit Price  Units\n",
       "0  04-Jul-14     East  Pen Set        4.99     62\n",
       "1  12-Jul-14     East   Binder        1.99     29\n",
       "2  21-Jul-14  Central  Pen Set       12.49     55\n",
       "3  29-Jul-14     East   Binder       19.99     81\n",
       "4  07-Aug-14  Central  Pen Set       23.95     42"
      ]
     },
     "execution_count": 477,
     "metadata": {},
     "output_type": "execute_result"
    }
   ],
   "source": [
    "###############part 3#######################\n",
    "import pandas as pd\n",
    "import numpy as np\n",
    "import os\n",
    "\n",
    "df = pd.read_csv('data_sales.csv', header='infer')\n",
    "df.shape\n",
    "df.head(5)"
   ]
  },
  {
   "cell_type": "code",
   "execution_count": 478,
   "id": "fc0cb028",
   "metadata": {},
   "outputs": [
    {
     "data": {
      "text/html": [
       "<div>\n",
       "<style scoped>\n",
       "    .dataframe tbody tr th:only-of-type {\n",
       "        vertical-align: middle;\n",
       "    }\n",
       "\n",
       "    .dataframe tbody tr th {\n",
       "        vertical-align: top;\n",
       "    }\n",
       "\n",
       "    .dataframe thead th {\n",
       "        text-align: right;\n",
       "    }\n",
       "</style>\n",
       "<table border=\"1\" class=\"dataframe\">\n",
       "  <thead>\n",
       "    <tr style=\"text-align: right;\">\n",
       "      <th></th>\n",
       "      <th>Date</th>\n",
       "      <th>Region</th>\n",
       "      <th>Item</th>\n",
       "      <th>Unit Price</th>\n",
       "      <th>Units</th>\n",
       "      <th>Amount</th>\n",
       "    </tr>\n",
       "  </thead>\n",
       "  <tbody>\n",
       "    <tr>\n",
       "      <th>0</th>\n",
       "      <td>04-Jul-14</td>\n",
       "      <td>East</td>\n",
       "      <td>Pen Set</td>\n",
       "      <td>4.99</td>\n",
       "      <td>62</td>\n",
       "      <td>309.38</td>\n",
       "    </tr>\n",
       "    <tr>\n",
       "      <th>1</th>\n",
       "      <td>12-Jul-14</td>\n",
       "      <td>East</td>\n",
       "      <td>Binder</td>\n",
       "      <td>1.99</td>\n",
       "      <td>29</td>\n",
       "      <td>57.71</td>\n",
       "    </tr>\n",
       "    <tr>\n",
       "      <th>2</th>\n",
       "      <td>21-Jul-14</td>\n",
       "      <td>Central</td>\n",
       "      <td>Pen Set</td>\n",
       "      <td>12.49</td>\n",
       "      <td>55</td>\n",
       "      <td>686.95</td>\n",
       "    </tr>\n",
       "    <tr>\n",
       "      <th>3</th>\n",
       "      <td>29-Jul-14</td>\n",
       "      <td>East</td>\n",
       "      <td>Binder</td>\n",
       "      <td>19.99</td>\n",
       "      <td>81</td>\n",
       "      <td>1619.19</td>\n",
       "    </tr>\n",
       "    <tr>\n",
       "      <th>4</th>\n",
       "      <td>07-Aug-14</td>\n",
       "      <td>Central</td>\n",
       "      <td>Pen Set</td>\n",
       "      <td>23.95</td>\n",
       "      <td>42</td>\n",
       "      <td>1005.90</td>\n",
       "    </tr>\n",
       "  </tbody>\n",
       "</table>\n",
       "</div>"
      ],
      "text/plain": [
       "        Date   Region     Item  Unit Price  Units   Amount\n",
       "0  04-Jul-14     East  Pen Set        4.99     62   309.38\n",
       "1  12-Jul-14     East   Binder        1.99     29    57.71\n",
       "2  21-Jul-14  Central  Pen Set       12.49     55   686.95\n",
       "3  29-Jul-14     East   Binder       19.99     81  1619.19\n",
       "4  07-Aug-14  Central  Pen Set       23.95     42  1005.90"
      ]
     },
     "execution_count": 478,
     "metadata": {},
     "output_type": "execute_result"
    }
   ],
   "source": [
    "df[\"Amount\"] = df[\"Units\"] * df[\"Unit Price\"]\n",
    "df.head(5)"
   ]
  },
  {
   "cell_type": "code",
   "execution_count": 479,
   "id": "b13b6ac2",
   "metadata": {},
   "outputs": [
    {
     "data": {
      "text/plain": [
       "Region\n",
       "Central    18.018750\n",
       "East        9.143846\n",
       "West       53.658333\n",
       "Name: Unit Price, dtype: float64"
      ]
     },
     "execution_count": 479,
     "metadata": {},
     "output_type": "execute_result"
    }
   ],
   "source": [
    "df.groupby(\"Region\")[\"Unit Price\"].mean()"
   ]
  },
  {
   "cell_type": "code",
   "execution_count": 392,
   "id": "1758b4cc",
   "metadata": {},
   "outputs": [
    {
     "data": {
      "text/html": [
       "<div>\n",
       "<style scoped>\n",
       "    .dataframe tbody tr th:only-of-type {\n",
       "        vertical-align: middle;\n",
       "    }\n",
       "\n",
       "    .dataframe tbody tr th {\n",
       "        vertical-align: top;\n",
       "    }\n",
       "\n",
       "    .dataframe thead th {\n",
       "        text-align: right;\n",
       "    }\n",
       "</style>\n",
       "<table border=\"1\" class=\"dataframe\">\n",
       "  <thead>\n",
       "    <tr style=\"text-align: right;\">\n",
       "      <th></th>\n",
       "      <th>Unit Price</th>\n",
       "    </tr>\n",
       "    <tr>\n",
       "      <th>Region</th>\n",
       "      <th></th>\n",
       "    </tr>\n",
       "  </thead>\n",
       "  <tbody>\n",
       "    <tr>\n",
       "      <th>Central</th>\n",
       "      <td>18.018750</td>\n",
       "    </tr>\n",
       "    <tr>\n",
       "      <th>East</th>\n",
       "      <td>9.143846</td>\n",
       "    </tr>\n",
       "    <tr>\n",
       "      <th>West</th>\n",
       "      <td>53.658333</td>\n",
       "    </tr>\n",
       "  </tbody>\n",
       "</table>\n",
       "</div>"
      ],
      "text/plain": [
       "         Unit Price\n",
       "Region             \n",
       "Central   18.018750\n",
       "East       9.143846\n",
       "West      53.658333"
      ]
     },
     "execution_count": 392,
     "metadata": {},
     "output_type": "execute_result"
    }
   ],
   "source": [
    "df1=df.pivot_table(index='Region',values=['Unit Price'])\n",
    "df1"
   ]
  },
  {
   "cell_type": "code",
   "execution_count": 394,
   "id": "e1121513",
   "metadata": {},
   "outputs": [
    {
     "name": "stderr",
     "output_type": "stream",
     "text": [
      "/tmp/ipykernel_101791/525941124.py:1: FutureWarning: Indexing with multiple keys (implicitly converted to a tuple of keys) will be deprecated, use a list instead.\n",
      "  df.groupby(\"Region\")[\"Unit Price\", \"Units\"].mean()\n"
     ]
    },
    {
     "data": {
      "text/html": [
       "<div>\n",
       "<style scoped>\n",
       "    .dataframe tbody tr th:only-of-type {\n",
       "        vertical-align: middle;\n",
       "    }\n",
       "\n",
       "    .dataframe tbody tr th {\n",
       "        vertical-align: top;\n",
       "    }\n",
       "\n",
       "    .dataframe thead th {\n",
       "        text-align: right;\n",
       "    }\n",
       "</style>\n",
       "<table border=\"1\" class=\"dataframe\">\n",
       "  <thead>\n",
       "    <tr style=\"text-align: right;\">\n",
       "      <th></th>\n",
       "      <th>Unit Price</th>\n",
       "      <th>Units</th>\n",
       "    </tr>\n",
       "    <tr>\n",
       "      <th>Region</th>\n",
       "      <th></th>\n",
       "      <th></th>\n",
       "    </tr>\n",
       "  </thead>\n",
       "  <tbody>\n",
       "    <tr>\n",
       "      <th>Central</th>\n",
       "      <td>18.018750</td>\n",
       "      <td>49.958333</td>\n",
       "    </tr>\n",
       "    <tr>\n",
       "      <th>East</th>\n",
       "      <td>9.143846</td>\n",
       "      <td>53.153846</td>\n",
       "    </tr>\n",
       "    <tr>\n",
       "      <th>West</th>\n",
       "      <td>53.658333</td>\n",
       "      <td>38.500000</td>\n",
       "    </tr>\n",
       "  </tbody>\n",
       "</table>\n",
       "</div>"
      ],
      "text/plain": [
       "         Unit Price      Units\n",
       "Region                        \n",
       "Central   18.018750  49.958333\n",
       "East       9.143846  53.153846\n",
       "West      53.658333  38.500000"
      ]
     },
     "execution_count": 394,
     "metadata": {},
     "output_type": "execute_result"
    }
   ],
   "source": [
    "df.groupby(\"Region\")[\"Unit Price\", \"Units\"].mean()"
   ]
  },
  {
   "cell_type": "code",
   "execution_count": 432,
   "id": "bdffa35d",
   "metadata": {},
   "outputs": [
    {
     "name": "stdout",
     "output_type": "stream",
     "text": [
      "         Unit Price      Units\n",
      "Region                        \n",
      "Central   18.018750  49.958333\n",
      "East       9.143846  53.153846\n",
      "West      53.658333  38.500000\n",
      "\n",
      " Region\n",
      "Central    67.977083\n",
      "East       62.297692\n",
      "West       92.158333\n",
      "dtype: float64 \n",
      "\n",
      " Unit Price     80.820929\n",
      "Units         141.612179\n",
      "dtype: float64\n"
     ]
    }
   ],
   "source": [
    "df1=df.pivot_table(index='Region',values=[\"Unit Price\", \"Units\"]).fillna(0)\n",
    "print(df1)\n",
    "print(\"\\n\",df1.sum(axis=1),\"\\n\\n\",df1.sum(axis=0))"
   ]
  },
  {
   "cell_type": "code",
   "execution_count": 433,
   "id": "a449e6f4",
   "metadata": {},
   "outputs": [
    {
     "name": "stdout",
     "output_type": "stream",
     "text": [
      "         Units                                      \n",
      "Item    Binder Desk        Pen    Pen Set     Pencil\n",
      "Region                                              \n",
      "Central   53.0  3.5  27.000000  60.750000  55.333333\n",
      "East      46.8  0.0  58.333333  50.666667  65.000000\n",
      "West      32.0  3.0  76.000000   0.000000  44.000000\n",
      "\n",
      " Region\n",
      "Central    199.583333\n",
      "East       220.800000\n",
      "West       155.000000\n",
      "dtype: float64 \n",
      "\n",
      "        Item   \n",
      "Units  Binder     131.800000\n",
      "       Desk         6.500000\n",
      "       Pen        161.333333\n",
      "       Pen Set    111.416667\n",
      "       Pencil     164.333333\n",
      "dtype: float64\n"
     ]
    }
   ],
   "source": [
    "df1=df.pivot_table(index='Region', columns = \"Item\",values=[\"Units\"]).fillna(0)\n",
    "print(df1)\n",
    "print(\"\\n\",df1.sum(axis=1),\"\\n\\n\",df1.sum(axis=0))"
   ]
  },
  {
   "cell_type": "code",
   "execution_count": 434,
   "id": "b0c70dc1",
   "metadata": {},
   "outputs": [
    {
     "name": "stdout",
     "output_type": "stream",
     "text": [
      "            Amount                                           \n",
      "Item        Binder   Desk         Pen     Pen Set      Pencil\n",
      "Region                                                       \n",
      "Central  720.32875  437.5  539.730000  605.347500  171.146667\n",
      "East     507.13200    0.0  451.416667  582.826667  181.850000\n",
      "West     639.68000  825.0  151.240000    0.000000  115.560000\n",
      "\n",
      " Region\n",
      "Central    2474.052917\n",
      "East       1723.225333\n",
      "West       1731.480000\n",
      "dtype: float64 \n",
      "\n",
      "         Item   \n",
      "Amount  Binder     1867.140750\n",
      "        Desk       1262.500000\n",
      "        Pen        1142.386667\n",
      "        Pen Set    1188.174167\n",
      "        Pencil      468.556667\n",
      "dtype: float64\n"
     ]
    }
   ],
   "source": [
    "df1=df.pivot_table(index='Region',columns = \"Item\",values=['Amount']).fillna(0)\n",
    "print(df1)\n",
    "print(\"\\n\",df1.sum(axis=1),\"\\n\\n\",df1.sum(axis=0))"
   ]
  },
  {
   "cell_type": "code",
   "execution_count": 480,
   "id": "df097ef5",
   "metadata": {},
   "outputs": [
    {
     "data": {
      "text/html": [
       "<div>\n",
       "<style scoped>\n",
       "    .dataframe tbody tr th:only-of-type {\n",
       "        vertical-align: middle;\n",
       "    }\n",
       "\n",
       "    .dataframe tbody tr th {\n",
       "        vertical-align: top;\n",
       "    }\n",
       "\n",
       "    .dataframe thead th {\n",
       "        text-align: right;\n",
       "    }\n",
       "</style>\n",
       "<table border=\"1\" class=\"dataframe\">\n",
       "  <thead>\n",
       "    <tr style=\"text-align: right;\">\n",
       "      <th></th>\n",
       "      <th>Year of Start</th>\n",
       "      <th>Current State</th>\n",
       "      <th>Size of Site</th>\n",
       "    </tr>\n",
       "  </thead>\n",
       "  <tbody>\n",
       "    <tr>\n",
       "      <th>0</th>\n",
       "      <td>2008.0</td>\n",
       "      <td>In</td>\n",
       "      <td>20.80</td>\n",
       "    </tr>\n",
       "    <tr>\n",
       "      <th>1</th>\n",
       "      <td>2010.0</td>\n",
       "      <td>In</td>\n",
       "      <td>212.72</td>\n",
       "    </tr>\n",
       "    <tr>\n",
       "      <th>2</th>\n",
       "      <td>2013.0</td>\n",
       "      <td>In</td>\n",
       "      <td>20.04</td>\n",
       "    </tr>\n",
       "    <tr>\n",
       "      <th>3</th>\n",
       "      <td>2012.0</td>\n",
       "      <td>In</td>\n",
       "      <td>64.17</td>\n",
       "    </tr>\n",
       "    <tr>\n",
       "      <th>4</th>\n",
       "      <td>2002.0</td>\n",
       "      <td>Out</td>\n",
       "      <td>11.40</td>\n",
       "    </tr>\n",
       "  </tbody>\n",
       "</table>\n",
       "</div>"
      ],
      "text/plain": [
       "   Year of Start Current State  Size of Site\n",
       "0         2008.0            In         20.80\n",
       "1         2010.0            In        212.72\n",
       "2         2013.0            In         20.04\n",
       "3         2012.0            In         64.17\n",
       "4         2002.0           Out         11.40"
      ]
     },
     "execution_count": 480,
     "metadata": {},
     "output_type": "execute_result"
    }
   ],
   "source": [
    "##################PART 4########################\n",
    "import pandas as pd\n",
    "import numpy as np\n",
    "import os\n",
    "import matplotlib.pyplot as plt\n",
    "\n",
    "df = pd.read_csv('data_coffeeshop.csv', header='infer',na_values=[' '])\n",
    "df.shape\n",
    "x = df[\"Year of Start\"]\n",
    "y = df[\"Year of Start\"].value_counts()\n",
    "df.head(5)"
   ]
  },
  {
   "cell_type": "code",
   "execution_count": 481,
   "id": "1a5fbf99",
   "metadata": {},
   "outputs": [
    {
     "data": {
      "text/plain": [
       "[<matplotlib.lines.Line2D at 0x7f02ea6108e0>]"
      ]
     },
     "execution_count": 481,
     "metadata": {},
     "output_type": "execute_result"
    },
    {
     "data": {
      "image/png": "[encoded data removed]",
      "text/plain": [
       "<Figure size 432x288 with 1 Axes>"
      ]
     },
     "metadata": {
      "needs_background": "light"
     },
     "output_type": "display_data"
    },
    {
     "data": {
      "text/plain": [
       "<Figure size 800x560 with 0 Axes>"
      ]
     },
     "metadata": {},
     "output_type": "display_data"
    }
   ],
   "source": [
    "fig,ax= plt.subplots()\n",
    "plt.figure(figsize=(10,7), dpi= 80)\n",
    "ax.set_xlim(1997,2014)\n",
    "ax.plot(y.sort_index(ascending=False))\n",
    "##Significant increase of active coffe shops by the start of the year 2008"
   ]
  },
  {
   "cell_type": "code",
   "execution_count": 482,
   "id": "c1395bc2",
   "metadata": {},
   "outputs": [
    {
     "data": {
      "text/plain": [
       "[<matplotlib.lines.Line2D at 0x7f02ea5c7850>]"
      ]
     },
     "execution_count": 482,
     "metadata": {},
     "output_type": "execute_result"
    },
    {
     "data": {
      "image/png": "[encoded data removed]",
      "text/plain": [
       "<Figure size 432x288 with 1 Axes>"
      ]
     },
     "metadata": {
      "needs_background": "light"
     },
     "output_type": "display_data"
    },
    {
     "data": {
      "text/plain": [
       "<Figure size 800x560 with 0 Axes>"
      ]
     },
     "metadata": {},
     "output_type": "display_data"
    }
   ],
   "source": [
    "a = df[df[\"Current State\"] == \"In\"][\"Year of Start\"].value_counts().sort_index(ascending=False)\n",
    "out = df[df[\"Current State\"] == \"Out\"][\"Year of Start\"].value_counts().sort_index(ascending=False)\n",
    "fig,ax= plt.subplots()\n",
    "plt.figure(figsize=(10,7), dpi= 80)\n",
    "ax.set_xlim(1997,2014)\n",
    "ax.plot(a)\n",
    "ax.plot(out)\n",
    "##Significant increase of active coffe shops over latest years on inner states\n",
    "##Small increase of outer inactive coffe shops compared to Inner shops but a decrease after the year 2011"
   ]
  },
  {
   "cell_type": "code",
   "execution_count": 258,
   "id": "26067fd6",
   "metadata": {},
   "outputs": [],
   "source": [
    "## from figure 1 & 2 we can see that many coffe shops before 2009 had similar numbers on activity and inactivity\n",
    "#, but after 2009 many busnisses kept being active compared to inactive ones, we might conclude the rise of \n",
    "#entrepreneurship or the popularity of coffe shops"
   ]
  }
 ],
 "metadata": {
  "kernelspec": {
   "display_name": "Python 3 (ipykernel)",
   "language": "python",
   "name": "python3"
  },
  "language_info": {
   "codemirror_mode": {
    "name": "ipython",
    "version": 3
   },
   "file_extension": ".py",
   "mimetype": "text/x-python",
   "name": "python",
   "nbconvert_exporter": "python",
   "pygments_lexer": "ipython3",
   "version": "3.9.7"
  }
 },
 "nbformat": 4,
 "nbformat_minor": 5
}
